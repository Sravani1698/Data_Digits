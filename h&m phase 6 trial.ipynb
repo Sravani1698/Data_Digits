{
 "cells": [
  {
   "cell_type": "code",
   "execution_count": null,
   "id": "e41215fe",
   "metadata": {},
   "outputs": [
    {
     "name": "stdout",
     "output_type": "stream",
     "text": [
      "Requirement already satisfied: mlxtend in c:\\users\\dell\\anaconda3\\lib\\site-packages (0.23.0)\n",
      "Requirement already satisfied: matplotlib>=3.0.0 in c:\\users\\dell\\anaconda3\\lib\\site-packages (from mlxtend) (3.5.1)\n",
      "Requirement already satisfied: pandas>=0.24.2 in c:\\users\\dell\\anaconda3\\lib\\site-packages (from mlxtend) (1.4.2)\n",
      "Requirement already satisfied: scipy>=1.2.1 in c:\\users\\dell\\anaconda3\\lib\\site-packages (from mlxtend) (1.7.3)\n",
      "Requirement already satisfied: scikit-learn>=1.0.2 in c:\\users\\dell\\anaconda3\\lib\\site-packages (from mlxtend) (1.0.2)\n",
      "Requirement already satisfied: numpy>=1.16.2 in c:\\users\\dell\\anaconda3\\lib\\site-packages (from mlxtend) (1.21.5)\n",
      "Requirement already satisfied: joblib>=0.13.2 in c:\\users\\dell\\anaconda3\\lib\\site-packages (from mlxtend) (1.1.0)\n",
      "Requirement already satisfied: packaging>=20.0 in c:\\users\\dell\\anaconda3\\lib\\site-packages (from matplotlib>=3.0.0->mlxtend) (21.3)\n",
      "Requirement already satisfied: fonttools>=4.22.0 in c:\\users\\dell\\anaconda3\\lib\\site-packages (from matplotlib>=3.0.0->mlxtend) (4.25.0)\n",
      "Requirement already satisfied: kiwisolver>=1.0.1 in c:\\users\\dell\\anaconda3\\lib\\site-packages (from matplotlib>=3.0.0->mlxtend) (1.3.2)\n",
      "Requirement already satisfied: cycler>=0.10 in c:\\users\\dell\\anaconda3\\lib\\site-packages (from matplotlib>=3.0.0->mlxtend) (0.11.0)\n",
      "Requirement already satisfied: pyparsing>=2.2.1 in c:\\users\\dell\\anaconda3\\lib\\site-packages (from matplotlib>=3.0.0->mlxtend) (3.0.4)\n",
      "Requirement already satisfied: python-dateutil>=2.7 in c:\\users\\dell\\anaconda3\\lib\\site-packages (from matplotlib>=3.0.0->mlxtend) (2.8.2)\n",
      "Requirement already satisfied: pillow>=6.2.0 in c:\\users\\dell\\anaconda3\\lib\\site-packages (from matplotlib>=3.0.0->mlxtend) (9.0.1)\n",
      "Requirement already satisfied: pytz>=2020.1 in c:\\users\\dell\\anaconda3\\lib\\site-packages (from pandas>=0.24.2->mlxtend) (2021.3)\n",
      "Requirement already satisfied: six>=1.5 in c:\\users\\dell\\anaconda3\\lib\\site-packages (from python-dateutil>=2.7->matplotlib>=3.0.0->mlxtend) (1.16.0)\n",
      "Requirement already satisfied: threadpoolctl>=2.0.0 in c:\\users\\dell\\anaconda3\\lib\\site-packages (from scikit-learn>=1.0.2->mlxtend) (2.2.0)\n"
     ]
    },
    {
     "name": "stderr",
     "output_type": "stream",
     "text": [
      "WARNING: Ignoring invalid distribution -orch (c:\\users\\dell\\anaconda3\\lib\\site-packages)\n",
      "WARNING: Ignoring invalid distribution -orch (c:\\users\\dell\\anaconda3\\lib\\site-packages)\n",
      "WARNING: Ignoring invalid distribution -orch (c:\\users\\dell\\anaconda3\\lib\\site-packages)\n",
      "WARNING: Ignoring invalid distribution -orch (c:\\users\\dell\\anaconda3\\lib\\site-packages)\n",
      "WARNING: Ignoring invalid distribution -orch (c:\\users\\dell\\anaconda3\\lib\\site-packages)\n",
      "WARNING: Ignoring invalid distribution -orch (c:\\users\\dell\\anaconda3\\lib\\site-packages)\n"
     ]
    }
   ],
   "source": [
    "! pip install mlxtend\n",
    "\n",
    "import pandas as pd\n",
    "\n",
    "from sklearn.preprocessing import LabelEncoder\n",
    "from sklearn.metrics import mean_squared_error, mean_absolute_error, r2_score\n",
    "import pandas as pd\n",
    "from sklearn.model_selection import train_test_split\n",
    "from sklearn.ensemble import RandomForestRegressor\n",
    "from sklearn.linear_model import Ridge\n",
    "from sklearn.model_selection import GridSearchCV\n",
    "from sklearn.preprocessing import StandardScaler\n",
    "import matplotlib.pyplot as plt\n",
    "from statsmodels.tsa.api import ExponentialSmoothing\n",
    "from mlxtend.frequent_patterns import apriori, association_rules\n",
    "import warnings\n",
    "\n",
    "\n",
    "new_data = pd.read_csv('HM-Sales-2018.csv')\n"
   ]
  },
  {
   "cell_type": "code",
   "execution_count": null,
   "id": "5dfbb8b4",
   "metadata": {},
   "outputs": [],
   "source": [
    "new_data_cleaned = pd.read_csv('HM-Sales-2018.csv')"
   ]
  },
  {
   "cell_type": "code",
   "execution_count": null,
   "id": "65c710b5",
   "metadata": {},
   "outputs": [
    {
     "name": "stdout",
     "output_type": "stream",
     "text": [
      "Index(['Order ID', 'Order Date', 'Ship Mode', 'Customer ID', 'Country', 'City',\n",
      "       'State', 'Region', 'Product ID', 'Category', 'Sub-Category', 'Sales',\n",
      "       'Quantity', 'Discount', 'Profit'],\n",
      "      dtype='object')\n"
     ]
    }
   ],
   "source": [
    "print(new_data.columns)\n"
   ]
  },
  {
   "cell_type": "code",
   "execution_count": null,
   "id": "22f4022b",
   "metadata": {},
   "outputs": [
    {
     "name": "stdout",
     "output_type": "stream",
     "text": [
      "Best Parameters for Random Forest: {'max_depth': 10, 'max_features': 'sqrt', 'min_samples_leaf': 1, 'min_samples_split': 2, 'n_estimators': 50}\n",
      "Random Forest Regression Results:\n",
      "Mean Squared Error: 621.5292648512408\n",
      "Mean Absolute Error: 16.12404478863815\n",
      "R-squared (R2) Score: 0.1789286483561633\n"
     ]
    }
   ],
   "source": [
    "# Cell 2: Random Forest Regression Optimization\n",
    "\n",
    "\n",
    "X = new_data.drop('Profit', axis=1)\n",
    "y = new_data['Profit']\n",
    "\n",
    "X = X.select_dtypes(exclude=['object'])\n",
    "\n",
    "X_train, X_test, y_train, y_test = train_test_split(X, y, test_size=0.2, random_state=42)\n",
    "\n",
    "scaler = StandardScaler()\n",
    "X_train = scaler.fit_transform(X_train)\n",
    "X_test = scaler.transform(X_test)\n",
    "\n",
    "param_grid_rf = {\n",
    "    'n_estimators': [50, 100, 150],\n",
    "    'max_depth': [None, 10, 20, 30, 40],\n",
    "    'min_samples_split': [2, 5, 10],\n",
    "    'min_samples_leaf': [1, 2, 4],\n",
    "    'max_features': ['auto', 'sqrt', 'log2']\n",
    "}\n",
    "\n",
    "grid_search_rf = GridSearchCV(RandomForestRegressor(random_state=42), param_grid_rf, cv=5, scoring='neg_mean_squared_error')\n",
    "grid_search_rf.fit(X_train, y_train)\n",
    "\n",
    "best_model_rf = grid_search_rf.best_estimator_\n",
    "print(\"Best Parameters for Random Forest:\", grid_search_rf.best_params_)\n",
    "\n",
    "best_model_rf.fit(X_train, y_train)\n",
    "y_pred_rf = best_model_rf.predict(X_test)\n",
    "\n",
    "mse_rf = mean_squared_error(y_test, y_pred_rf)\n",
    "mae_rf = mean_absolute_error(y_test, y_pred_rf)\n",
    "r2_rf = r2_score(y_test, y_pred_rf)\n",
    "\n",
    "print(\"Random Forest Regression Results:\")\n",
    "print(\"Mean Squared Error:\", mse_rf)\n",
    "print(\"Mean Absolute Error:\", mae_rf)\n",
    "print(\"R-squared (R2) Score:\", r2_rf)\n"
   ]
  },
  {
   "cell_type": "code",
   "execution_count": null,
   "id": "8a33536a",
   "metadata": {},
   "outputs": [
    {
     "name": "stdout",
     "output_type": "stream",
     "text": [
      "Best Parameters for Ridge Regression: {'alpha': 10}\n",
      "Ridge Regression Results:\n",
      "Ridge Regression Coefficients: [-42.20648508 -25.34024475]\n",
      "Ridge Regression MSE: 5006.7082651473675\n",
      "Ridge Regression R2 Score: -5.614112890621214\n"
     ]
    }
   ],
   "source": [
    "le = LabelEncoder()\n",
    "new_data_cleaned['Category'] = le.fit_transform(new_data_cleaned['Category'])\n",
    "X_ridge = new_data_cleaned[['Category', 'Quantity']]\n",
    "y_ridge = new_data_cleaned['Profit']\n",
    "X_train_ridge, X_test_ridge, y_train_ridge, y_test_ridge = train_test_split(X_ridge, y_ridge, test_size=0.2, random_state=42)\n",
    "\n",
    "warnings.filterwarnings(\"ignore\", category=DeprecationWarning)\n",
    "scaler_ridge = StandardScaler()\n",
    "X_train_scaled_ridge = scaler_ridge.fit_transform(X_train_ridge)\n",
    "X_test_scaled_ridge = scaler_ridge.transform(X_test_ridge)\n",
    "\n",
    "param_grid_ridge = {\n",
    "    'alpha': [0.001, 0.01, 0.1, 1, 10]\n",
    "}\n",
    "\n",
    "grid_search_ridge = GridSearchCV(Ridge(), param_grid_ridge, cv=5, scoring='neg_mean_squared_error')\n",
    "grid_search_ridge.fit(X_train_scaled_ridge, y_train_ridge)\n",
    "\n",
    "best_model_ridge = grid_search_ridge.best_estimator_\n",
    "print(\"Best Parameters for Ridge Regression:\", grid_search_ridge.best_params_)\n",
    "\n",
    "ridge_predictions = best_model_ridge.predict(X_test_scaled_ridge)\n",
    "ridge_mse = mean_squared_error(y_test_ridge, ridge_predictions)\n",
    "ridge_r2 = r2_score(y_test_ridge, ridge_predictions)\n",
    "\n",
    "print(\"Ridge Regression Results:\")\n",
    "print(f\"Ridge Regression Coefficients: {best_model_ridge.coef_}\")\n",
    "print(f\"Ridge Regression MSE: {ridge_mse}\")\n",
    "print(f\"Ridge Regression R2 Score: {ridge_r2}\")"
   ]
  },
  {
   "cell_type": "code",
   "execution_count": null,
   "id": "779d0aa4",
   "metadata": {},
   "outputs": [
    {
     "name": "stderr",
     "output_type": "stream",
     "text": [
      "C:\\Users\\DELL\\anaconda3\\lib\\site-packages\\statsmodels\\tsa\\base\\tsa_model.py:471: ValueWarning: A date index has been provided, but it has no associated frequency information and so will be ignored when e.g. forecasting.\n",
      "  self._init_dates(dates, freq)\n",
      "C:\\Users\\DELL\\anaconda3\\lib\\site-packages\\statsmodels\\tsa\\base\\tsa_model.py:471: ValueWarning: A date index has been provided, but it is not monotonic and so will be ignored when e.g. forecasting.\n",
      "  self._init_dates(dates, freq)\n",
      "C:\\Users\\DELL\\anaconda3\\lib\\site-packages\\statsmodels\\tsa\\base\\tsa_model.py:834: ValueWarning: No supported index is available. Prediction results will be given with an integer index beginning at `start`.\n",
      "  return get_prediction_index(\n"
     ]
    },
    {
     "name": "stdout",
     "output_type": "stream",
     "text": [
      "Time Series Forecasting Results:\n",
      "Time Series MSE: 7256081.388057724\n",
      "Time Series R2 Score: -0.7854833702247861\n"
     ]
    },
    {
     "data": {
      "image/png": "[encoded data removed]",
      "text/plain": [
       "<Figure size 864x432 with 1 Axes>"
      ]
     },
     "metadata": {
      "needs_background": "light"
     },
     "output_type": "display_data"
    }
   ],
   "source": [
    "# Cell 4: Time Series Forecasting\n",
    "\n",
    "time_series_data = new_data_cleaned[['Order Date', 'Sales', 'Profit']].copy()\n",
    "time_series_data['Order Date'] = pd.to_datetime(time_series_data['Order Date'])\n",
    "time_series_data.set_index('Order Date', inplace=True)\n",
    "\n",
    "model = ExponentialSmoothing(time_series_data['Sales'], trend='add', seasonal='add', seasonal_periods=12)\n",
    "model_fit = model.fit()\n",
    "\n",
    "forecast = model_fit.forecast(steps=12)\n",
    "forecast = pd.Series(forecast, index=pd.date_range(start=time_series_data.index[-1], periods=12, freq='M'))\n",
    "\n",
    "time_series_data = time_series_data.resample('M').sum()\n",
    "forecast = forecast.resample('M').sum()\n",
    "\n",
    "mse_time_series = mean_squared_error(time_series_data['Sales'], forecast)\n",
    "r2_time_series = r2_score(time_series_data['Sales'], forecast)\n",
    "\n",
    "print(\"Time Series Forecasting Results:\")\n",
    "print(\"Time Series MSE:\", mse_time_series)\n",
    "print(\"Time Series R2 Score:\", r2_time_series)\n",
    "\n",
    "plt.figure(figsize=(12, 6))\n",
    "plt.plot(time_series_data.index, time_series_data['Sales'], label='Actual Sales')\n",
    "plt.plot(forecast.index, forecast, label='Forecast', linestyle='--')\n",
    "plt.title('Actual vs. Forecasted Sales')\n",
    "plt.xlabel('Date')\n",
    "plt.ylabel('Sales')\n",
    "plt.legend()\n",
    "plt.show()\n"
   ]
  },
  {
   "cell_type": "code",
   "execution_count": null,
   "id": "8ab13f3d",
   "metadata": {},
   "outputs": [
    {
     "name": "stdout",
     "output_type": "stream",
     "text": [
      "Association Rule Mining Results:\n",
      "          antecedents                                     consequents  \\\n",
      "0        (Flip flops)                                          (Bags)   \n",
      "1              (Bags)                                    (Flip flops)   \n",
      "2     (Heels & Flats)                                          (Bags)   \n",
      "3              (Bags)                                 (Heels & Flats)   \n",
      "4           (Jackets)                                          (Bags)   \n",
      "...               ...                                             ...   \n",
      "1495          (Belts)  (Tops, Dresses, Jackets, Sport shoes, Formals)   \n",
      "1496        (Dresses)    (Tops, Belts, Jackets, Sport shoes, Formals)   \n",
      "1497        (Jackets)    (Belts, Dresses, Tops, Sport shoes, Formals)   \n",
      "1498    (Sport shoes)        (Tops, Belts, Dresses, Jackets, Formals)   \n",
      "1499        (Formals)    (Tops, Belts, Dresses, Jackets, Sport shoes)   \n",
      "\n",
      "      antecedent support  consequent support   support  confidence      lift  \\\n",
      "0               0.061224            0.183673  0.020408    0.333333  1.814815   \n",
      "1               0.183673            0.061224  0.020408    0.111111  1.814815   \n",
      "2               0.061224            0.183673  0.020408    0.333333  1.814815   \n",
      "3               0.183673            0.061224  0.020408    0.111111  1.814815   \n",
      "4               0.163265            0.183673  0.081633    0.500000  2.722222   \n",
      "...                  ...                 ...       ...         ...       ...   \n",
      "1495            0.122449            0.020408  0.020408    0.166667  8.166667   \n",
      "1496            0.326531            0.020408  0.020408    0.062500  3.062500   \n",
      "1497            0.163265            0.020408  0.020408    0.125000  6.125000   \n",
      "1498            0.163265            0.020408  0.020408    0.125000  6.125000   \n",
      "1499            0.163265            0.020408  0.020408    0.125000  6.125000   \n",
      "\n",
      "      leverage  conviction  zhangs_metric  \n",
      "0     0.009163    1.224490       0.478261  \n",
      "1     0.009163    1.056122       0.550000  \n",
      "2     0.009163    1.224490       0.478261  \n",
      "3     0.009163    1.056122       0.550000  \n",
      "4     0.051645    1.632653       0.756098  \n",
      "...        ...         ...            ...  \n",
      "1495  0.017909    1.175510       1.000000  \n",
      "1496  0.013744    1.044898       1.000000  \n",
      "1497  0.017076    1.119534       1.000000  \n",
      "1498  0.017076    1.119534       1.000000  \n",
      "1499  0.017076    1.119534       1.000000  \n",
      "\n",
      "[1500 rows x 10 columns]\n"
     ]
    },
    {
     "data": {
      "image/png": "[encoded data removed]",
      "text/plain": [
       "<Figure size 432x288 with 1 Axes>"
      ]
     },
     "metadata": {
      "needs_background": "light"
     },
     "output_type": "display_data"
    }
   ],
   "source": [
    "# Cell 5: Association Rule Mining\n",
    "\n",
    "df_association = new_data_cleaned[['Order ID', 'Sub-Category']]\n",
    "\n",
    "basket = df_association.groupby('Order ID')['Sub-Category'].apply(list).reset_index()\n",
    "\n",
    "basket = basket.set_index('Order ID')['Sub-Category'].str.join('|').str.get_dummies().reset_index()\n",
    "\n",
    "min_support = 0.005\n",
    "frequent_itemsets = apriori(basket.drop('Order ID', axis=1), min_support=min_support, use_colnames=True)\n",
    "\n",
    "rules = association_rules(frequent_itemsets, metric=\"lift\", min_threshold=1.0)\n",
    "\n",
    "print(\"Association Rule Mining Results:\")\n",
    "print(rules)\n",
    "\n",
    "plt.scatter(rules['support'], rules['confidence'], alpha=0.5)\n",
    "plt.xlabel('Support')\n",
    "plt.ylabel('Confidence')\n",
    "plt.title('Association Rules - Support vs. Confidence')\n",
    "plt.show()\n"
   ]
  },
  {
   "cell_type": "code",
   "execution_count": null,
   "id": "9888d093",
   "metadata": {},
   "outputs": [],
   "source": []
  }
 ],
 "metadata": {
  "kernelspec": {
   "display_name": "Python 3 (ipykernel)",
   "language": "python",
   "name": "python3"
  },
  "language_info": {
   "codemirror_mode": {
    "name": "ipython",
    "version": 3
   },
   "file_extension": ".py",
   "mimetype": "text/x-python",
   "name": "python",
   "nbconvert_exporter": "python",
   "pygments_lexer": "ipython3",
   "version": "3.9.12"
  }
 },
 "nbformat": 4,
 "nbformat_minor": 5
}
